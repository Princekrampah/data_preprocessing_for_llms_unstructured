{
 "cells": [
  {
   "cell_type": "markdown",
   "metadata": {},
   "source": [
    "## Metadata Extraction And Chunking\n",
    "\n",
    "\n",
    "Enriching extracted data with metadata is vital for better hybrid search. This allows use to chunk data more meaningfully for semantic search.\n",
    "\n",
    "\n",
    "### What Is Metadata\n",
    "\n",
    "Metadata is data about data, it is additional information about content extracted from source documents.\n",
    "\n",
    "#### Types Of Metadata\n",
    "\n",
    "1. **Source Information**\n",
    "\n",
    "> This is information about the source from which content was extracted from. Information about the document itself. like filename, last modified data etcetera.\n",
    "\n",
    "\n",
    "2. **Structure Metadata**\n",
    "\n",
    "> This is constructured from the structure of the document itself. Eg element types and hierarchies, section information etc"
   ]
  },
  {
   "cell_type": "markdown",
   "metadata": {},
   "source": [
    "### Why Hybrid Search?\n",
    "\n",
    "Hybrid search is a search strategy that combines semantic search with information retrieval techniques such as filtering and keyword search.\n",
    "\n",
    "\n",
    "1. **Too many matches**\n",
    "\n",
    "In some cases, similary search may return too many similar documents.\n",
    "\n",
    "2. **Most recent information**\n",
    "\n",
    "Users may want the most recent information and not just the most similar one.\n",
    "\n",
    "\n",
    "3. **Loss of important information**\n",
    "\n",
    "Loss of important information that is relevant to the search such as section information."
   ]
  },
  {
   "cell_type": "code",
   "execution_count": 1,
   "metadata": {},
   "outputs": [],
   "source": [
    "import warnings\n",
    "warnings.filterwarnings('ignore')"
   ]
  },
  {
   "cell_type": "code",
   "execution_count": 2,
   "metadata": {},
   "outputs": [],
   "source": [
    "import logging\n",
    "logger = logging.getLogger()\n",
    "logger.setLevel(logging.CRITICAL)"
   ]
  },
  {
   "cell_type": "code",
   "execution_count": 4,
   "metadata": {},
   "outputs": [],
   "source": [
    "import json\n",
    "from IPython.display import JSON\n",
    "\n",
    "from unstructured_client import UnstructuredClient\n",
    "from unstructured_client.models import shared\n",
    "from unstructured_client.models.errors import SDKError\n",
    "\n",
    "from unstructured.chunking.basic import chunk_elements\n",
    "from unstructured.chunking.title import chunk_by_title\n",
    "from unstructured.staging.base import dict_to_elements\n",
    "\n",
    "import os\n",
    "\n",
    "import chromadb"
   ]
  },
  {
   "cell_type": "code",
   "execution_count": 5,
   "metadata": {},
   "outputs": [],
   "source": [
    "s = UnstructuredClient(\n",
    "    api_key_auth=os.getenv(\"UNSTRUCTURED_API_KEY\")\n",
    ")"
   ]
  },
  {
   "cell_type": "markdown",
   "metadata": {},
   "source": [
    "#### Calling API"
   ]
  },
  {
   "cell_type": "code",
   "execution_count": 8,
   "metadata": {},
   "outputs": [],
   "source": [
    "filename = \"./example_datasets/winter-sports.pdf\"\n",
    "\n",
    "with open(filename, \"rb\") as f:\n",
    "    files=shared.Files(\n",
    "        content=f.read(),\n",
    "        file_name=filename,\n",
    "    )\n",
    "\n",
    "req = shared.PartitionParameters(files=files)"
   ]
  },
  {
   "cell_type": "code",
   "execution_count": 9,
   "metadata": {},
   "outputs": [],
   "source": [
    "try:\n",
    "    resp = s.general.partition(req)\n",
    "except SDKError as e:\n",
    "    print(e)"
   ]
  },
  {
   "cell_type": "code",
   "execution_count": 15,
   "metadata": {},
   "outputs": [
    {
     "name": "stdout",
     "output_type": "stream",
     "text": [
      "[\n",
      "  {\n",
      "    \"type\": \"Image\",\n",
      "    \"element_id\": \"e914244ca866000ec93260287252af9b\",\n",
      "    \"text\": \"WY R! NS PGRTS SWIDZIWRTAND: I A \\u00a5.E BENSON\",\n",
      "    \"metadata\": {\n",
      "      \"filetype\": \"application/pdf\",\n",
      "      \"languages\": [\n",
      "        \"eng\"\n",
      "      ],\n",
      "      \"page_number\": 1,\n",
      "      \"filename\": \"winter-sports.pdf\"\n",
      "    }\n",
      "  },\n",
      "  {\n",
      "    \"type\": \"Title\",\n",
      "    \"element_id\": \"21501e320e445a0a9478f2775c43efbd\",\n",
      "    \"text\": \"* A Distributed Proofreaders US Ebook *\",\n",
      "    \"metadata\": {\n",
      "      \"filetype\": \"application/pdf\",\n",
      "      \"languages\": [\n",
      "        \"eng\"\n",
      "      ],\n",
      "      \"page_number\": 2,\n",
      "      \"filename\": \"winter-sports.pdf\"\n",
      "    }\n",
      "  },\n",
      "  {\n",
      "    \"type\": \"NarrativeText\",\n",
      "    \"element_id\": \"6ec7739f853217b1a845380ed110edae\",\n",
      "    \"text\": \"This ebook is made available at no cost and with very few restrictions. These restrictions apply only if (1) you make a change in the ebook (other than alteration for different display devices), or (2) you are making commercial use of the ebook. If either of these conditions applies, please check with an FP administrator before proceeding.\",\n",
      "    \"metadata\": {\n",
      "      \"filetype\": \"application/pdf\",\n",
      "      \"languages\": [\n",
      "        \"eng\"\n",
      "      ],\n",
      "      \"page_number\": 2,\n",
      "      \"parent_id\": \"21501e320e445a0a9478f2775c43efbd\",\n",
      "      \"filename\": \"winter-sports.pdf\"\n",
      "    }\n",
      "  }\n",
      "]\n"
     ]
    }
   ],
   "source": [
    "print(json.dumps(resp.elements[0:3], indent=2))"
   ]
  },
  {
   "cell_type": "markdown",
   "metadata": {},
   "source": [
    "#### Filtering"
   ]
  },
  {
   "cell_type": "code",
   "execution_count": 11,
   "metadata": {},
   "outputs": [
    {
     "data": {
      "text/plain": [
       "[{'type': 'Title',\n",
       "  'element_id': 'e99335bc0cc4901e83f4ed51b34777a8',\n",
       "  'text': 'ICE-HOCKEY',\n",
       "  'metadata': {'filetype': 'application/pdf',\n",
       "   'languages': ['eng'],\n",
       "   'page_number': 130,\n",
       "   'filename': 'winter-sports.pdf'}}]"
      ]
     },
     "execution_count": 11,
     "metadata": {},
     "output_type": "execute_result"
    }
   ],
   "source": [
    "[x for x in resp.elements if x['type'] == 'Title' and 'hockey' in x['text'].lower()]"
   ]
  },
  {
   "cell_type": "markdown",
   "metadata": {},
   "source": [
    "#### Find Elements Associated With Chapters"
   ]
  },
  {
   "cell_type": "code",
   "execution_count": 12,
   "metadata": {},
   "outputs": [],
   "source": [
    "chapters = [\n",
    "    \"THE SUN-SEEKER\",\n",
    "    \"RINKS AND SKATERS\",\n",
    "    \"TEES AND CRAMPITS\",\n",
    "    \"ICE-HOCKEY\",\n",
    "    \"SKI-ING\",\n",
    "    \"NOTES ON WINTER RESORTS\",\n",
    "    \"FOR PARENTS AND GUARDIANS\",\n",
    "]"
   ]
  },
  {
   "cell_type": "code",
   "execution_count": 13,
   "metadata": {},
   "outputs": [],
   "source": [
    "# Filtering down to Titles\n",
    "chapter_ids = {}\n",
    "for element in resp.elements:\n",
    "    for chapter in chapters:\n",
    "        if element[\"text\"] == chapter and element[\"type\"] == \"Title\":\n",
    "            chapter_ids[element[\"element_id\"]] = chapter\n",
    "            break"
   ]
  },
  {
   "cell_type": "code",
   "execution_count": 14,
   "metadata": {},
   "outputs": [
    {
     "data": {
      "text/plain": [
       "{'08ef4b916c44e72dfa21a3b462928b3c': 'THE SUN-SEEKER',\n",
       " '83004b57981390b5052bbc077c677e9b': 'RINKS AND SKATERS',\n",
       " 'd0428d4e418c70676674f93921543ba7': 'TEES AND CRAMPITS',\n",
       " 'e99335bc0cc4901e83f4ed51b34777a8': 'ICE-HOCKEY',\n",
       " '36615698e751eadf28b48d0c96f0384f': 'SKI-ING',\n",
       " '06f0ced6df29297c075035fc648700e9': 'NOTES ON WINTER RESORTS'}"
      ]
     },
     "execution_count": 14,
     "metadata": {},
     "output_type": "execute_result"
    }
   ],
   "source": [
    "chapter_ids"
   ]
  },
  {
   "cell_type": "code",
   "execution_count": 16,
   "metadata": {},
   "outputs": [
    {
     "data": {
      "text/plain": [
       "{'type': 'NarrativeText',\n",
       " 'element_id': '62163bb9ede34f67ae877df0f7d2e2f2',\n",
       " 'text': 'M of the Swiss winter-resorts can put into the field a very strong ice-hockey team, and fine teams from other countries often make winter tours there; but the ice-hockey which the ordinary winter visitor will be apt to join in will probably be of the most elementary and unscientific kind indulged in, when the skating day is drawing to a close, by picked-up sides. As will be readily understood, the ice over which a hockey match has been played is perfectly useless for skaters any more that day until it has been swept, scraped, and sprinkled or flooded; and in consequence, at all Swiss resorts, with the exception of St. Moritz, where there is a rink that has been made for the hockey- player, or when an important match is being played, this sport is supplementary to such others as I have spoken of. Nobody, that is, plays hockey and nothing else, since he cannot play hockey at all till the greedy skaters have finished with the ice.',\n",
       " 'metadata': {'filetype': 'application/pdf',\n",
       "  'languages': ['eng'],\n",
       "  'page_number': 130,\n",
       "  'parent_id': 'e99335bc0cc4901e83f4ed51b34777a8',\n",
       "  'filename': 'winter-sports.pdf'}}"
      ]
     },
     "execution_count": 16,
     "metadata": {},
     "output_type": "execute_result"
    }
   ],
   "source": [
    "chapter_to_id = {v: k for k, v in chapter_ids.items()}\n",
    "[x for x in resp.elements if x[\"metadata\"].get(\"parent_id\") == chapter_to_id[\"ICE-HOCKEY\"]][0]"
   ]
  },
  {
   "cell_type": "markdown",
   "metadata": {},
   "source": [
    "#### Load documents into a vector db"
   ]
  },
  {
   "cell_type": "code",
   "execution_count": 20,
   "metadata": {},
   "outputs": [
    {
     "data": {
      "text/plain": [
       "True"
      ]
     },
     "execution_count": 20,
     "metadata": {},
     "output_type": "execute_result"
    }
   ],
   "source": [
    "client = chromadb.PersistentClient(path=\"chroma_tmp\", settings=chromadb.Settings(allow_reset=True))\n",
    "client.reset()"
   ]
  },
  {
   "cell_type": "code",
   "execution_count": 21,
   "metadata": {},
   "outputs": [],
   "source": [
    "collection = client.create_collection(\n",
    "    name=\"winter_sports\",\n",
    "    # Cosine similarity search\n",
    "    metadata={\"hnsw:space\": \"cosine\"}\n",
    ")"
   ]
  },
  {
   "cell_type": "markdown",
   "metadata": {},
   "source": [
    "#### Add Elements To Collection\n",
    "\n",
    "- Can take awhile."
   ]
  },
  {
   "cell_type": "code",
   "execution_count": 22,
   "metadata": {},
   "outputs": [],
   "source": [
    "for element in resp.elements:\n",
    "    parent_id = element[\"metadata\"].get(\"parent_id\")\n",
    "    chapter = chapter_ids.get(parent_id, \"\")\n",
    "    collection.add(\n",
    "        documents=[element[\"text\"]],\n",
    "        ids=[element[\"element_id\"]],\n",
    "        metadatas=[{\"chapter\": chapter}]\n",
    "    )"
   ]
  },
  {
   "cell_type": "markdown",
   "metadata": {},
   "source": [
    "#### See the elements in Vector DB"
   ]
  },
  {
   "cell_type": "code",
   "execution_count": 23,
   "metadata": {},
   "outputs": [
    {
     "name": "stdout",
     "output_type": "stream",
     "text": [
      "['O C R (colour)', 'To pass this section the candidate must satisfy all the judges in the manner in which he skates each set considered as a whole, and also in the manner in which he skates each individual call.', '“The essentials of correct tracing are: “Maintenance of the long and transverse axes (as the long axis of the figure a line is to be conceived which divides each circle into two equal parts; a transverse axis cuts the long axis at right angles between two circles); approximately equal size of all circles, and of all curves before and after all turns; symmetrical grouping of the individual parts of the figure about the axes; curves without wobbles, skated out—that is, returning nearly to the starting-point. Threes with the turns lying in the long axis; changes of edge with an easy transition, the change falling in the long axis.”', 'Note.—The head, as already stated, consists of the projection of sixteen stones from one crampit towards the house at the other end of the rink, for each player puts down two stones, and there are eight players. Then when all have played the head is complete, the score is recorded, and the next head is played from the crampit behind the house into which they have just been playing. They “cross over,” that is to say, to the other end of the rink.', 'Here, then, is a rough sketch of the game as it is played, as it', 'less sheer than the precipice itself, runs the funicular railway which leads to the Mürren-plateau. At first sight it seems as if it must be meant for a practical joke, constructed by humorous engineers to astonish the weak minds of travellers, and, though practical from the point of view of a joke, to be perfectly impracticable as a means of conveyance. Its steepness is that of disordered images seen in a dream, and it was with a sense of utter incredulity that I first took my place in one of the small wooden compartments and was locked in by an apparently sane and serious conductor. He blew a whistle, or a bell sounded, just as is done on real lines of traffic, and immediately afterwards we began to ascend that impossible line of rails, sauntering with smooth and steady progress up that ridiculous precipice. More amazing still we soon observed a similar car sauntering steadily down it, just strolling down, even as we were strolling up. We met, we passed, and I had a vision of passengers smoking and chatting, as if', 'he begins to attack the fortress of the turns. He should be able to progress steadily and smoothly both on the outside edge and the inside edge forward, and to make some progress also on the back edges, namely, outside back and inside back. This last is far the most difficult', 'CHAPTER IV', 'II. He must be standing erect with his shoulders and body sideways to the direction of his curve, not facing square down it. In other words, he must, among other things, be travelling not further forward than on the middle of his skate, otherwise he will not be standing erect, but leaning forward. This attitude is that which is referred to, in the humorous book I have already quoted, as characteristic of the ramrod school. But the author, in his blissful ignorance of skating matters, is not aware that it is impossible to execute a long smooth circumference of curve if you progress on the forepart of your skate. If you are on the forepart of the skate, you must be leaning forward, and no one of known anatomy can lean forward and execute a long smooth edge. The balance is unsteady, and the edge wobbles. Commonsense, then, again endorses this rule. In order to be steady on a long edge, your balance must be of the established order. You must be upright, and travelling without muscular effort to retain your position. This is only attained by travelling on the middle or the aft part of the skate. For nobody can stand still on their toes. But standing on the middle part of the foot or with the weight on the heel it is perfectly easy to do so. But when this humorous author (whom I drag out of his obscurity for the last time) calls this the ramrod school, he proves himself ignorant of the first principles of English skating, or perhaps has only observed himself in some mirror at Prince’s Club attempting to assume the correct attitude himself. As a matter of fact, the proper attitude of the skater in the English style is exactly that of a man who is well made and master of his limbs standing still with the weight chiefly on one foot. While skating, it is true, the weight is entirely on one foot, and the performer is moving, and not standing still. But the pose necessary to smooth and swift progression is exactly that. It no more resembles a ramrod, when decently done, as every good English skater does it, than it resembles a coal-scuttle or a pince-nez, or what you will.', 'P XXII THE TOP OF THE CRESTA, ST. MORITZ']\n"
     ]
    }
   ],
   "source": [
    "results = collection.peek()\n",
    "print(results[\"documents\"])"
   ]
  },
  {
   "cell_type": "markdown",
   "metadata": {},
   "source": [
    "#### Perform a hybrid search with metadata"
   ]
  },
  {
   "cell_type": "code",
   "execution_count": 25,
   "metadata": {},
   "outputs": [
    {
     "name": "stdout",
     "output_type": "stream",
     "text": [
      "{\n",
      "  \"ids\": [\n",
      "    [\n",
      "      \"04db2c6acff79460008854980481b84c\",\n",
      "      \"4e83445779c2acfec3d440845954003a\"\n",
      "    ]\n",
      "  ],\n",
      "  \"distances\": [\n",
      "    [\n",
      "      0.4859185814857483,\n",
      "      0.6825367212295532\n",
      "    ]\n",
      "  ],\n",
      "  \"metadatas\": [\n",
      "    [\n",
      "      {\n",
      "        \"chapter\": \"ICE-HOCKEY\"\n",
      "      },\n",
      "      {\n",
      "        \"chapter\": \"ICE-HOCKEY\"\n",
      "      }\n",
      "    ]\n",
      "  ],\n",
      "  \"embeddings\": null,\n",
      "  \"documents\": [\n",
      "    [\n",
      "      \"accuracy of a first-rate team, each member of which knows the play of the other five players. The finer the team, as is always the case, the greater is their interdependence on each other, and the less there is of individual play. Brilliant running and dribbling, indeed, you will see; but as distinguished from a side composed of individuals, however good, who are yet not a team, these brilliant episodes are always part of a plan, and end not in some wild shot but in a pass or a succession of passes, designed to lead to a good opening for scoring. There is, indeed, no game at which team play outwits individual brilliance so completely.\",\n",
      "      \"quickly, and above all, stop quickly. However swift a player may be, he is practically useless to his side unless he can, with moderate suddenness, check his headlong career, turn quickly, and when the time comes again start quickly.\"\n",
      "    ]\n",
      "  ],\n",
      "  \"uris\": null,\n",
      "  \"data\": null\n",
      "}\n"
     ]
    }
   ],
   "source": [
    "result = collection.query(\n",
    "    query_texts=[\"How many players are on a team?\"],\n",
    "    n_results=2,\n",
    "    where={\"chapter\": \"ICE-HOCKEY\"},\n",
    ")\n",
    "print(json.dumps(result, indent=2))"
   ]
  },
  {
   "cell_type": "markdown",
   "metadata": {},
   "source": [
    "#### Chunking\n",
    "\n",
    "Chunking is simply breaking down a large piece of text into smaller sections. This is important since LLMs have limited context window sizes.\n",
    "\n",
    "You can chunk based on:\n",
    "\n",
    "1. Tokens\n",
    "2. Characters\n",
    "\n",
    "##### Is Chunking Necessary?\n",
    "\n",
    "Yes, vector databases need documents to be split into smaller chunks for retrieval and prompt generation.\n",
    "\n",
    "##### Query Variability\n",
    "\n",
    "The same query can return different content depending on the way the document is chunked.\n",
    "\n",
    "##### Even Size Chunks\n",
    "\n",
    "The easiest way is to split the document down into evently sized chunks. This can result into getting similar content split across all chunks.\n",
    "\n",
    "##### Chunking By Atomic Elements\n",
    "\n",
    "By identifying atomic elements, you can chunk by combining elements rather than splitting raw text itself. This results in:\n",
    "\n",
    "- More coherent chunks\n",
    "- **Example:** Combining content under the same header section into the same chunk.\n",
    "\n",
    "\n",
    "In chunking based on Elements, we first split the text into sections based on atomic elements and then perform a combining operation over them. This includes the following steps:\n",
    "\n",
    "1. **Partitioning**\n",
    "\n",
    "Breaking down a larget document into smaller atomic elements.\n",
    "\n",
    "2. **Combine Elements Into Chunks**\n",
    "\n",
    "Add one document atomic element into the chunk, repeat this for all the identified atomic elements adding each to the chunk untill we hit a threshold of the character limit or token limit depending on what you set.\n",
    "\n",
    "\n",
    "3. **Apply Break Condition**\n",
    "\n",
    "This simply means, we set a threshold on when to stop adding atomic elements to a given chunk and begin or start a new set of chunk. Basically under what circustances should we start a new chunk? Such conditions can be:\n",
    "\n",
    "1. When content metadata changes such as page number\n",
    "2. When title changes, indicating a new chapter\n",
    "3. When content similarity exceeeds a given threshold\n",
    "\n",
    "\n",
    "You can also apply a basic combinative chunking in which no conditions are applied aka no break condition.\n",
    "\n",
    "\n",
    "**Coherent Chunks**\n",
    "\n",
    "Coherent chunks are groups of related information presented in a way that makes logical sense and is easy to understand. The goal is to ensure that the information within each chunk is thematically and contextually related, making it easier for the reader or viewer to process and retain the information. Coherence is achieved by focusing on:\n",
    "\n",
    "**Consistency:** The information within a chunk should follow a consistent theme or topic.\n",
    "\n",
    "**Relevance:** Each piece of information should be directly related to the main idea of the chunk.\n",
    "\n",
    "**Flow:** The information should be organized in a logical sequence that is easy to follow.\n",
    "\n",
    "For example, in a blog post about Python programming, a coherent chunk might cover different data types in Python, with each section dedicated to a specific type like integers, strings, and lists. Each section would provide a clear and comprehensive overview of its respective topic.\n",
    "\n",
    "**Structured Chunks**\n",
    "Structured chunks refer to the organization of information into well-defined, hierarchical units that follow a clear and consistent structure. This approach emphasizes the use of headings, subheadings, bullet points, and other organizational tools to create a predictable and navigable layout. Structure is achieved by focusing on:\n",
    "\n",
    "**Hierarchy:** Information is organized from general to specific, with clear distinctions between main points and subpoints.\n",
    "\n",
    "**Format:** Consistent use of formatting tools such as headings, bullet points, and numbering to delineate different sections and sub-sections.\n",
    "\n",
    "**Navigation:** Easy-to-follow layout that allows readers to quickly locate and understand different parts of the content.\n",
    "\n",
    "For example, a technical manual might use structured chunks to present information. The manual could have chapters (main chunks), which are divided into sections and subsections. Each section might begin with an overview, followed by detailed explanations, examples, and summaries.\n",
    "\n",
    "**Combining Coherent and Structured Chunks**\n",
    "\n",
    "Combining coherent and structured chunks can significantly enhance the clarity and usability of information. Coherent chunks ensure that the content within each section is logical and easy to understand, while structured chunks provide a clear framework that helps readers navigate through the information efficiently.\n",
    "\n",
    "\n",
    "![Chunking Strategies](./images/chunking_strategies.png)"
   ]
  },
  {
   "cell_type": "code",
   "execution_count": 26,
   "metadata": {},
   "outputs": [],
   "source": [
    "# convert de-serialized elements dict to elements\n",
    "elements = dict_to_elements(resp.elements)"
   ]
  },
  {
   "cell_type": "code",
   "execution_count": 27,
   "metadata": {},
   "outputs": [],
   "source": [
    "chunks = chunk_by_title(\n",
    "    elements,\n",
    "    combine_text_under_n_chars=100,\n",
    "    max_characters=3000,\n",
    ")"
   ]
  },
  {
   "cell_type": "markdown",
   "metadata": {},
   "source": [
    "`combine_text_under_n_chars=100` combine elements with less than 100 characters within it.\n",
    "\n",
    "`max_characters=3000` max number of characters in each chunk."
   ]
  },
  {
   "cell_type": "code",
   "execution_count": 28,
   "metadata": {},
   "outputs": [
    {
     "name": "stdout",
     "output_type": "stream",
     "text": [
      "{\n",
      "  \"type\": \"CompositeElement\",\n",
      "  \"element_id\": \"c191902c-9e67-4d8d-abf0-1ebc6f8771ae\",\n",
      "  \"text\": \"WY R! NS PGRTS SWIDZIWRTAND: I A \\u00a5.E BENSON\\n\\n* A Distributed Proofreaders US Ebook *\\n\\nThis ebook is made available at no cost and with very few restrictions. These restrictions apply only if (1) you make a change in the ebook (other than alteration for different display devices), or (2) you are making commercial use of the ebook. If either of these conditions applies, please check with an FP administrator before proceeding.\\n\\nThis work is in the Canadian public domain, but may be under copyright in some countries. If you live outside Canada, check your country's copyright laws. If the book is under copyright in your country, do not download or redistribute this file.\\n\\nTitle: Winter Sports in Switzerland Author: Benson, E. F. (Edward Frederic) Date of first publication: 1913 Date first posted: August 23, 2019 Date last updated: February 3, 2021 Faded Page ebook#20210233\\n\\nTitle: Winter Sports in Switzerland\\n\\nAuthor: Benson, E. F. (Edward Frederic)\\n\\nDate of first publication: 1913\\n\\nDate first posted: August 23, 2019\\n\\nDate last updated: February 3, 2021\\n\\nFaded Page ebook#20210233\\n\\nProduced by Chuck Greif and the Online Distributed Proofreading Team at http://www.pgdp.net (This file was produced from images available at The Internet Archive)\\n\\nContents. List of Illustrations (In certain versions of this etext [in certain browsers] clicking on the image will bring up a larger version.) (etext transcriber's note)\\n\\n< 3 0 L <= i} G N \\\"l { 1= Fun\\n\\nTHE EIGER From the Drawing by Fleming Williams\",\n",
      "  \"metadata\": {\n",
      "    \"filename\": \"winter-sports.pdf\",\n",
      "    \"filetype\": \"application/pdf\",\n",
      "    \"languages\": [\n",
      "      \"eng\"\n",
      "    ],\n",
      "    \"page_number\": 1,\n",
      "    \"orig_elements\": \"eJzdWG1v2zYQ/is378PSInMpUhKloP2QJk5moEiLxEOwtUXBl6MtVJYESornFf3vO8oO6g5BV2MDAu+LwRxP9/Lc8cgnbz+NsMQlVt2Hwo5OYIR5FPM4NipLU8YYmlzwlPFM8oQrl+vRMYyW2CmrOkX6n0auKLFSSwwfr4qqQ/9z29S+a8eNdUE7KHTrZlBQTVMWRnVFXT3bbpeqmvdqji3tvx1hNR+9J2lDkg9Vv9ToSR59JlGHf3TBxu1vcP0DXN3Am8vr2Q3c3E7Pf5/eXs9Or85PYAqn8K5nTCXjCbycXN28vgpO7v1Pl2R3RNb+njaPEhah4AzjOFFM5bHMHJcyMbFAp+2jpM13035KmZ0XbecL3Xdo4Y2va+dRWfQt/HoDE13XH+HpbrazoisfzDZFI6XIXZYIHkkdqSxORMbQRhH9KHycbAeJ36Mmu/DMFkULOGBAiyXBAupOFaXSJa06qGowdduBqiysim4Bd+jX4HAFHgOoJoTbjmG2wBa/kkHIZw11RT+Fg6PoCazrnlx8JMNgFpQaQlFBt8BtAEc1rT0JVAWqJLAGLMDVHmzhHIYcadU2pVqDxbvCYPvkGGj7iG+MEwzBQVHNKerlEr0pVAk9RVa7L47GMHWAxeBsIycFU1e2+BJ4ge0xNCWqsLVA83GTPUV28QaUXRZV6CnVkXONFCFC42uDaMn3eLeZrpQPedzhLCD+QFMpnvFYq5hlLM8zbrMsSaWwaLhmLuHsUJtqVfuhp7YlPlOVsgXh1/SaIgJbL1VRHQOdSirZmlCEvqJDSYVo1r6YL7rwZVsvQ2n6itoK26Fwoc4l4Ql137WF3VpWx9sy0bbffrH+qd2xVqrVxkCI5r7hH3C5a+CYwqQjQF1Xr6qyVjY0m6ci388TMkZWAuD7FT0yaSQjHnHHRSasY86w3KqEacHSiCeHWPQwNU/gdggObobgAp43dHD+RF+GCXLad4van8BLrNqaij8Zw8UYjiZ2pbyFC0IWaXw8gXPVDUfWFZ5mz6ZjhnToTssjsdnfbtJ0QntCpuc9/cnFMXAW5RuVUpGobwjFoHKB2veKxtegwyO4oHFHNwKBsBkMPwYp40LsV0tthBRJzHMuc8WiSMZMJxgxFSGBxv+ftdxvxsVa00hLZIq51nmmchmJPEsoGJdZaw4Qou9s5T2vAqEMz8mZs2mSorOcCZdlLNFWC3OIU+EfTvJe8FiZSUFva21FlqJMbUYS7aJMyURvT+0hwvPNQbYXQiJHLTVPTO4SmeUxYhYZleSpzUXGXX6oCH17ju8FUaoT66SNszhNrXNJkplM6zijw2ZoaB/itP5vrrHYGpNJlfMUteDW5sYYliWoOWeSCM6jACP+FTDE9WxvCBu9hrNFT6/DS4/ERcJTJLwCX1dlUeHD9DBwiBmqZSBBi65rTp49W61W42Zum3GFHRzN7l9+sFJteP1vXDlfL6EIfLn9mkkRQ4JpQCl8ferNgmqx3/VARbXSSSGZilHkzObEEGIrWWIiZxJ1gBU6qymqigKCV1SEcFFMy7IfmNVAxY6mFRj0HVGFwDzbQThwtkBbgxV4W3xR0b5etaT2HgzlMvDAekM/hooQhytLUgryviEWWio/pwfO1vL4CRxtbJL/qjXUE+iJQxAB2LNSUmWJsIkyuWFGW6O1o+s8dbGQ9BKy8lEqFe8C/xwEMHgFz19A8Rku4QrejUr4BNELuOir7/rfj7NRLlPOMsei2KUul5JYDU/TSMRCRY/zqPsqydkvE5hMLyfX9B6jUxn64NyrVSg/TYQLyiYsb6kpCrVsd5O+KOa9xzPVBP+jz+//AkImXEE=\"\n",
      "  }\n",
      "}\n"
     ]
    }
   ],
   "source": [
    "print(json.dumps(chunks[0].to_dict(), indent=2))"
   ]
  },
  {
   "cell_type": "code",
   "execution_count": 29,
   "metadata": {},
   "outputs": [
    {
     "data": {
      "text/plain": [
       "744"
      ]
     },
     "execution_count": 29,
     "metadata": {},
     "output_type": "execute_result"
    }
   ],
   "source": [
    "len(elements)"
   ]
  },
  {
   "cell_type": "code",
   "execution_count": 30,
   "metadata": {},
   "outputs": [
    {
     "data": {
      "text/plain": [
       "180"
      ]
     },
     "execution_count": 30,
     "metadata": {},
     "output_type": "execute_result"
    }
   ],
   "source": [
    "len(chunks)"
   ]
  },
  {
   "cell_type": "code",
   "execution_count": null,
   "metadata": {},
   "outputs": [],
   "source": []
  }
 ],
 "metadata": {
  "kernelspec": {
   "display_name": ".venv",
   "language": "python",
   "name": "python3"
  },
  "language_info": {
   "codemirror_mode": {
    "name": "ipython",
    "version": 3
   },
   "file_extension": ".py",
   "mimetype": "text/x-python",
   "name": "python",
   "nbconvert_exporter": "python",
   "pygments_lexer": "ipython3",
   "version": "3.10.12"
  }
 },
 "nbformat": 4,
 "nbformat_minor": 2
}
