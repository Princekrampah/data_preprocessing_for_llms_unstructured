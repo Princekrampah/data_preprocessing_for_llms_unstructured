{
 "cells": [
  {
   "cell_type": "markdown",
   "metadata": {},
   "source": [
    "## Table Extraction From Documents\n",
    "\n",
    "### Text Analysis\n",
    "\n",
    "Most RAG systems rely on the text content from documents.\n",
    "\n",
    "### Structured Data\n",
    "\n",
    "Some industries like Finance, Insurance and Accounting rely on more structured data such as tables embedded into unstructured data such as PDF document.\n",
    "\n",
    "To help with question answering, its important to be able to extract the able from these documents.\n",
    "\n",
    "\n",
    "#### Inherent Structure:\n",
    "\n",
    "Some documents contain table structure information that you can use to extract data from. Example of such documents include: HTMLs and Word Docs. For such documents, we can use rule based parsers to extract table information.\n",
    "\n",
    "#### Inference Required:\n",
    "\n",
    "Some documents do not contain table structure details. When working with such documents, table structure details are inferred. Techniques such as:\n",
    "\n",
    "- **Table Transformers**\n",
    "\n",
    "> These are models which identify the bounding boxes for table cells and converts the output into a html format.\n",
    "\n",
    "> **Steps used:**\n",
    "> 1. Identify table using DLD models\n",
    "> 2. Run the identified table into the table transfomer model\n",
    "\n",
    "Read more from [here](https://arxiv.org/pdf/2203.01017)\n",
    "\n",
    "- **Vision Transformers**\n",
    "\n",
    "> Vision transformers work as we have already seen, the only difference when working with tables is that the output is in HTML format.\n",
    "\n",
    "- **OCR Postprocessing can be applied**\n",
    "\n",
    "> This involve OCRing the table and then use rule based or statistical parsers to extract the table information from it.\n",
    "\n",
    "Once the table information is extracted using one of these techniques, the extracted table information can be exported to HTML format to preserve table structure.\n",
    "\n"
   ]
  },
  {
   "cell_type": "code",
   "execution_count": 1,
   "metadata": {},
   "outputs": [],
   "source": [
    "import warnings\n",
    "warnings.filterwarnings('ignore')"
   ]
  },
  {
   "cell_type": "code",
   "execution_count": 2,
   "metadata": {},
   "outputs": [],
   "source": [
    "from unstructured_client import UnstructuredClient\n",
    "from unstructured_client.models import shared\n",
    "from unstructured_client.models.errors import SDKError\n",
    "\n",
    "from unstructured.staging.base import dict_to_elements\n",
    "\n",
    "import os"
   ]
  },
  {
   "cell_type": "code",
   "execution_count": 3,
   "metadata": {},
   "outputs": [],
   "source": [
    "s = UnstructuredClient(\n",
    "    api_key_auth=os.getenv(\"UNSTRUCTURED_API_KEY\")\n",
    ")"
   ]
  },
  {
   "cell_type": "code",
   "execution_count": 4,
   "metadata": {},
   "outputs": [],
   "source": [
    "filename = \"./example_datasets/embedded-images-tables.pdf\"\n",
    "\n",
    "with open(filename, \"rb\") as f:\n",
    "    files=shared.Files(\n",
    "        content=f.read(),\n",
    "        file_name=filename,\n",
    "    )\n",
    "\n",
    "req = shared.PartitionParameters(\n",
    "    files=files,\n",
    "    strategy=\"hi_res\",\n",
    "    hi_res_model_name=\"yolox\",\n",
    "    skip_infer_table_types=[],\n",
    "    pdf_infer_table_structure=True,\n",
    ")\n",
    "\n",
    "try:\n",
    "    resp = s.general.partition(req)\n",
    "    elements = dict_to_elements(resp.elements)\n",
    "except SDKError as e:\n",
    "    print(e)"
   ]
  },
  {
   "cell_type": "code",
   "execution_count": 5,
   "metadata": {},
   "outputs": [],
   "source": [
    "tables = [el for el in elements if el.category == \"Table\"]"
   ]
  },
  {
   "cell_type": "code",
   "execution_count": 6,
   "metadata": {},
   "outputs": [
    {
     "data": {
      "text/plain": [
       "'Inhibitor Polarization Corrosion be (V/dec) ba (V/dec) Ecorr (V) icorr (AJcm?) concentration (g) resistance (Q) rate (mmj/year) 0.0335 0.0409 —0.9393 0.0003 24.0910 2.8163 1.9460 0.0596 .8276 0.0002 121.440 1.5054 0.0163 0.2369 .8825 0.0001 42121 0.9476 s NO 03233 0.0540 —0.8027 5.39E-05 373.180 0.4318 0.1240 0.0556 .5896 5.46E-05 305.650 0.3772 = 5 0.0382 0.0086 .5356 1.24E-05 246.080 0.0919'"
      ]
     },
     "execution_count": 6,
     "metadata": {},
     "output_type": "execute_result"
    }
   ],
   "source": [
    "tables[0].text"
   ]
  },
  {
   "cell_type": "code",
   "execution_count": 7,
   "metadata": {},
   "outputs": [],
   "source": [
    "table_html = tables[0].metadata.text_as_html"
   ]
  },
  {
   "cell_type": "code",
   "execution_count": 8,
   "metadata": {},
   "outputs": [
    {
     "name": "stdout",
     "output_type": "stream",
     "text": [
      "<table>\n",
      "  <thead>\n",
      "    <th>Inhibitor concentration (g)</th>\n",
      "    <th>be (V/dec)</th>\n",
      "    <th>ba (V/dec)</th>\n",
      "    <th>Ecorr (V)</th>\n",
      "    <th>icorr (AJcm?)</th>\n",
      "    <th>Polarization resistance (Q)</th>\n",
      "    <th>Corrosion rate (mmj/year)</th>\n",
      "  </thead>\n",
      "  <tr>\n",
      "    <td/>\n",
      "    <td>0.0335</td>\n",
      "    <td>0.0409</td>\n",
      "    <td>&#8212;0.9393</td>\n",
      "    <td>0.0003</td>\n",
      "    <td>24.0910</td>\n",
      "    <td>2.8163</td>\n",
      "  </tr>\n",
      "  <tr>\n",
      "    <td>NO</td>\n",
      "    <td>1.9460</td>\n",
      "    <td>0.0596</td>\n",
      "    <td>&#8212;0.8276</td>\n",
      "    <td>0.0002</td>\n",
      "    <td>121.440</td>\n",
      "    <td>1.5054</td>\n",
      "  </tr>\n",
      "  <tr>\n",
      "    <td/>\n",
      "    <td>0.0163</td>\n",
      "    <td>0.2369</td>\n",
      "    <td>&#8212;0.8825</td>\n",
      "    <td>0.0001</td>\n",
      "    <td>42121</td>\n",
      "    <td>0.9476</td>\n",
      "  </tr>\n",
      "  <tr>\n",
      "    <td>s</td>\n",
      "    <td>03233</td>\n",
      "    <td>0.0540</td>\n",
      "    <td>&#8212;0.8027</td>\n",
      "    <td>5.39E-05</td>\n",
      "    <td>373.180</td>\n",
      "    <td>0.4318</td>\n",
      "  </tr>\n",
      "  <tr>\n",
      "    <td/>\n",
      "    <td>0.1240</td>\n",
      "    <td>0.0556</td>\n",
      "    <td>&#8212;0.5896</td>\n",
      "    <td>5.46E-05</td>\n",
      "    <td>305.650</td>\n",
      "    <td>0.3772</td>\n",
      "  </tr>\n",
      "  <tr>\n",
      "    <td>= 5</td>\n",
      "    <td>0.0382</td>\n",
      "    <td>0.0086</td>\n",
      "    <td>&#8212;0.5356</td>\n",
      "    <td>1.24E-05</td>\n",
      "    <td>246.080</td>\n",
      "    <td>0.0919</td>\n",
      "  </tr>\n",
      "</table>\n",
      "\n"
     ]
    }
   ],
   "source": [
    "from io import StringIO \n",
    "from lxml import etree\n",
    "\n",
    "parser = etree.XMLParser(remove_blank_text=True)\n",
    "file_obj = StringIO(table_html)\n",
    "tree = etree.parse(file_obj, parser)\n",
    "print(etree.tostring(tree, pretty_print=True).decode())"
   ]
  },
  {
   "cell_type": "code",
   "execution_count": 9,
   "metadata": {},
   "outputs": [
    {
     "data": {
      "text/html": [
       "<table><thead><th>Inhibitor concentration (g)</th><th>be (V/dec)</th><th>ba (V/dec)</th><th>Ecorr (V)</th><th>icorr (AJcm?)</th><th>Polarization resistance (Q)</th><th>Corrosion rate (mmj/year)</th></thead><tr><td></td><td>0.0335</td><td>0.0409</td><td>—0.9393</td><td>0.0003</td><td>24.0910</td><td>2.8163</td></tr><tr><td>NO</td><td>1.9460</td><td>0.0596</td><td>—0.8276</td><td>0.0002</td><td>121.440</td><td>1.5054</td></tr><tr><td></td><td>0.0163</td><td>0.2369</td><td>—0.8825</td><td>0.0001</td><td>42121</td><td>0.9476</td></tr><tr><td>s</td><td>03233</td><td>0.0540</td><td>—0.8027</td><td>5.39E-05</td><td>373.180</td><td>0.4318</td></tr><tr><td></td><td>0.1240</td><td>0.0556</td><td>—0.5896</td><td>5.46E-05</td><td>305.650</td><td>0.3772</td></tr><tr><td>= 5</td><td>0.0382</td><td>0.0086</td><td>—0.5356</td><td>1.24E-05</td><td>246.080</td><td>0.0919</td></tr></table>"
      ],
      "text/plain": [
       "<IPython.core.display.HTML object>"
      ]
     },
     "execution_count": 9,
     "metadata": {},
     "output_type": "execute_result"
    }
   ],
   "source": [
    "from IPython.core.display import HTML\n",
    "HTML(table_html)"
   ]
  },
  {
   "cell_type": "code",
   "execution_count": null,
   "metadata": {},
   "outputs": [],
   "source": []
  }
 ],
 "metadata": {
  "kernelspec": {
   "display_name": ".venv",
   "language": "python",
   "name": "python3"
  },
  "language_info": {
   "codemirror_mode": {
    "name": "ipython",
    "version": 3
   },
   "file_extension": ".py",
   "mimetype": "text/x-python",
   "name": "python",
   "nbconvert_exporter": "python",
   "pygments_lexer": "ipython3",
   "version": "3.10.12"
  }
 },
 "nbformat": 4,
 "nbformat_minor": 2
}
